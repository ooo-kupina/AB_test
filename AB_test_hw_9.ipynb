{
 "cells": [
  {
   "cell_type": "markdown",
   "id": "f4ba23ed",
   "metadata": {},
   "source": [
    "# Задача"
   ]
  },
  {
   "cell_type": "markdown",
   "id": "d1604987",
   "metadata": {},
   "source": [
    "Проанализируйте результаты эксперимента и напишите свои рекомендации менеджеру.\n",
    "\n",
    "Mobile Games AB Testing with Cookie Cats\n"
   ]
  },
  {
   "cell_type": "code",
   "execution_count": 1,
   "id": "6721950f",
   "metadata": {},
   "outputs": [],
   "source": [
    "from tqdm import tqdm # Прогресс бар\n",
    "\n",
    "import pandas as pd\n",
    "import numpy as np\n",
    "\n",
    "import seaborn as sns\n",
    "import matplotlib.pyplot as plt\n",
    "\n",
    "from scipy import stats\n",
    "from statsmodels.stats.meta_analysis import effectsize_smd\n",
    "from statsmodels.stats import proportion\n",
    "from statsmodels.stats.power import tt_ind_solve_power\n",
    "from statsmodels.stats.power import zt_ind_solve_power\n",
    "from scipy.stats import ttest_1samp\n",
    "import numpy as np\n",
    "import plotly.express as px"
   ]
  },
  {
   "cell_type": "code",
   "execution_count": 2,
   "id": "66c1ed45",
   "metadata": {},
   "outputs": [],
   "source": [
    "import warnings\n",
    "warnings.filterwarnings('ignore')\n",
    "warnings.warn('DelftStack')\n",
    "warnings.warn('Do not show this message')"
   ]
  },
  {
   "cell_type": "markdown",
   "id": "f183a159",
   "metadata": {},
   "source": [
    "## Проверка и подготовка данных"
   ]
  },
  {
   "cell_type": "code",
   "execution_count": 3,
   "id": "44dc8ada",
   "metadata": {},
   "outputs": [],
   "source": [
    "raw_data = pd.read_csv('data/cookie_cats 2.csv')"
   ]
  },
  {
   "cell_type": "code",
   "execution_count": 4,
   "id": "f02072d2",
   "metadata": {},
   "outputs": [
    {
     "data": {
      "text/html": [
       "<div>\n",
       "<style scoped>\n",
       "    .dataframe tbody tr th:only-of-type {\n",
       "        vertical-align: middle;\n",
       "    }\n",
       "\n",
       "    .dataframe tbody tr th {\n",
       "        vertical-align: top;\n",
       "    }\n",
       "\n",
       "    .dataframe thead th {\n",
       "        text-align: right;\n",
       "    }\n",
       "</style>\n",
       "<table border=\"1\" class=\"dataframe\">\n",
       "  <thead>\n",
       "    <tr style=\"text-align: right;\">\n",
       "      <th></th>\n",
       "      <th>userid</th>\n",
       "      <th>version</th>\n",
       "      <th>sum_gamerounds</th>\n",
       "      <th>retention_1</th>\n",
       "      <th>retention_7</th>\n",
       "    </tr>\n",
       "  </thead>\n",
       "  <tbody>\n",
       "    <tr>\n",
       "      <th>0</th>\n",
       "      <td>116</td>\n",
       "      <td>gate_30</td>\n",
       "      <td>3</td>\n",
       "      <td>0</td>\n",
       "      <td>0</td>\n",
       "    </tr>\n",
       "    <tr>\n",
       "      <th>1</th>\n",
       "      <td>337</td>\n",
       "      <td>gate_30</td>\n",
       "      <td>38</td>\n",
       "      <td>1</td>\n",
       "      <td>0</td>\n",
       "    </tr>\n",
       "    <tr>\n",
       "      <th>2</th>\n",
       "      <td>377</td>\n",
       "      <td>gate_40</td>\n",
       "      <td>165</td>\n",
       "      <td>1</td>\n",
       "      <td>0</td>\n",
       "    </tr>\n",
       "    <tr>\n",
       "      <th>3</th>\n",
       "      <td>483</td>\n",
       "      <td>gate_40</td>\n",
       "      <td>1</td>\n",
       "      <td>0</td>\n",
       "      <td>0</td>\n",
       "    </tr>\n",
       "    <tr>\n",
       "      <th>4</th>\n",
       "      <td>488</td>\n",
       "      <td>gate_40</td>\n",
       "      <td>179</td>\n",
       "      <td>1</td>\n",
       "      <td>1</td>\n",
       "    </tr>\n",
       "    <tr>\n",
       "      <th>5</th>\n",
       "      <td>540</td>\n",
       "      <td>gate_40</td>\n",
       "      <td>187</td>\n",
       "      <td>1</td>\n",
       "      <td>1</td>\n",
       "    </tr>\n",
       "    <tr>\n",
       "      <th>6</th>\n",
       "      <td>1066</td>\n",
       "      <td>gate_30</td>\n",
       "      <td>0</td>\n",
       "      <td>0</td>\n",
       "      <td>0</td>\n",
       "    </tr>\n",
       "    <tr>\n",
       "      <th>7</th>\n",
       "      <td>1444</td>\n",
       "      <td>gate_40</td>\n",
       "      <td>2</td>\n",
       "      <td>0</td>\n",
       "      <td>0</td>\n",
       "    </tr>\n",
       "    <tr>\n",
       "      <th>8</th>\n",
       "      <td>1574</td>\n",
       "      <td>gate_40</td>\n",
       "      <td>108</td>\n",
       "      <td>1</td>\n",
       "      <td>1</td>\n",
       "    </tr>\n",
       "    <tr>\n",
       "      <th>9</th>\n",
       "      <td>1587</td>\n",
       "      <td>gate_40</td>\n",
       "      <td>153</td>\n",
       "      <td>1</td>\n",
       "      <td>0</td>\n",
       "    </tr>\n",
       "  </tbody>\n",
       "</table>\n",
       "</div>"
      ],
      "text/plain": [
       "   userid  version  sum_gamerounds  retention_1  retention_7\n",
       "0     116  gate_30               3            0            0\n",
       "1     337  gate_30              38            1            0\n",
       "2     377  gate_40             165            1            0\n",
       "3     483  gate_40               1            0            0\n",
       "4     488  gate_40             179            1            1\n",
       "5     540  gate_40             187            1            1\n",
       "6    1066  gate_30               0            0            0\n",
       "7    1444  gate_40               2            0            0\n",
       "8    1574  gate_40             108            1            1\n",
       "9    1587  gate_40             153            1            0"
      ]
     },
     "execution_count": 4,
     "metadata": {},
     "output_type": "execute_result"
    }
   ],
   "source": [
    "raw_data.head(10)"
   ]
  },
  {
   "cell_type": "code",
   "execution_count": 5,
   "id": "38d3744e",
   "metadata": {},
   "outputs": [
    {
     "name": "stdout",
     "output_type": "stream",
     "text": [
      "<class 'pandas.core.frame.DataFrame'>\n",
      "RangeIndex: 90189 entries, 0 to 90188\n",
      "Data columns (total 5 columns):\n",
      " #   Column          Non-Null Count  Dtype \n",
      "---  ------          --------------  ----- \n",
      " 0   userid          90189 non-null  int64 \n",
      " 1   version         90189 non-null  object\n",
      " 2   sum_gamerounds  90189 non-null  int64 \n",
      " 3   retention_1     90189 non-null  int64 \n",
      " 4   retention_7     90189 non-null  int64 \n",
      "dtypes: int64(4), object(1)\n",
      "memory usage: 3.4+ MB\n"
     ]
    }
   ],
   "source": [
    "raw_data.info()"
   ]
  },
  {
   "cell_type": "code",
   "execution_count": 6,
   "id": "d35db6db",
   "metadata": {},
   "outputs": [
    {
     "data": {
      "text/plain": [
       "userid   version  sum_gamerounds  retention_1  retention_7\n",
       "116      gate_30  3               0            0              1\n",
       "6632278  gate_40  4               0            0              1\n",
       "6658202  gate_40  9               0            0              1\n",
       "6658194  gate_40  1               0            0              1\n",
       "6658134  gate_40  112             1            0              1\n",
       "                                                             ..\n",
       "3347358  gate_40  0               0            0              1\n",
       "3347337  gate_40  3               0            0              1\n",
       "3346992  gate_40  185             1            0              1\n",
       "3346979  gate_30  38              1            1              1\n",
       "9999861  gate_40  16              0            0              1\n",
       "Length: 90189, dtype: int64"
      ]
     },
     "execution_count": 6,
     "metadata": {},
     "output_type": "execute_result"
    }
   ],
   "source": [
    "raw_data.value_counts()"
   ]
  },
  {
   "cell_type": "markdown",
   "id": "52600e1c",
   "metadata": {},
   "source": [
    "Описание датасета:\n",
    "* 1-day retention - показывает, вернулся ли пользователь на следующий день после установки приложения.\n",
    "* 7-day retention - вернулся ли пользователь спустя неделю после установки.\n",
    "* sum_gamerounds - количество сыграных раундов.\n",
    "* version - контрольная/тестовая группа.  \n",
    "В представленном датасете повторяющихся и пропущенных данных не обнаружено."
   ]
  },
  {
   "cell_type": "markdown",
   "id": "e878a382",
   "metadata": {},
   "source": [
    "### Анализ "
   ]
  },
  {
   "cell_type": "code",
   "execution_count": 7,
   "id": "9c9e7ddc",
   "metadata": {},
   "outputs": [],
   "source": [
    "control_1 = raw_data[raw_data['version'] =='gate_30'].copy(deep=True)\n",
    "test_1 = raw_data[raw_data['version'] =='gate_40'].copy(deep=True)"
   ]
  },
  {
   "cell_type": "code",
   "execution_count": 8,
   "id": "6fc33944",
   "metadata": {},
   "outputs": [
    {
     "data": {
      "text/html": [
       "<div>\n",
       "<style scoped>\n",
       "    .dataframe tbody tr th:only-of-type {\n",
       "        vertical-align: middle;\n",
       "    }\n",
       "\n",
       "    .dataframe tbody tr th {\n",
       "        vertical-align: top;\n",
       "    }\n",
       "\n",
       "    .dataframe thead th {\n",
       "        text-align: right;\n",
       "    }\n",
       "</style>\n",
       "<table border=\"1\" class=\"dataframe\">\n",
       "  <thead>\n",
       "    <tr style=\"text-align: right;\">\n",
       "      <th></th>\n",
       "      <th>sum_gamerounds</th>\n",
       "    </tr>\n",
       "  </thead>\n",
       "  <tbody>\n",
       "    <tr>\n",
       "      <th>count</th>\n",
       "      <td>44700.000000</td>\n",
       "    </tr>\n",
       "    <tr>\n",
       "      <th>mean</th>\n",
       "      <td>52.456264</td>\n",
       "    </tr>\n",
       "    <tr>\n",
       "      <th>std</th>\n",
       "      <td>256.716423</td>\n",
       "    </tr>\n",
       "    <tr>\n",
       "      <th>min</th>\n",
       "      <td>0.000000</td>\n",
       "    </tr>\n",
       "    <tr>\n",
       "      <th>25%</th>\n",
       "      <td>5.000000</td>\n",
       "    </tr>\n",
       "    <tr>\n",
       "      <th>50%</th>\n",
       "      <td>17.000000</td>\n",
       "    </tr>\n",
       "    <tr>\n",
       "      <th>75%</th>\n",
       "      <td>50.000000</td>\n",
       "    </tr>\n",
       "    <tr>\n",
       "      <th>max</th>\n",
       "      <td>49854.000000</td>\n",
       "    </tr>\n",
       "  </tbody>\n",
       "</table>\n",
       "</div>"
      ],
      "text/plain": [
       "       sum_gamerounds\n",
       "count    44700.000000\n",
       "mean        52.456264\n",
       "std        256.716423\n",
       "min          0.000000\n",
       "25%          5.000000\n",
       "50%         17.000000\n",
       "75%         50.000000\n",
       "max      49854.000000"
      ]
     },
     "execution_count": 8,
     "metadata": {},
     "output_type": "execute_result"
    }
   ],
   "source": [
    "control_1[['sum_gamerounds']].describe()"
   ]
  },
  {
   "cell_type": "code",
   "execution_count": 9,
   "id": "af727bf0",
   "metadata": {},
   "outputs": [
    {
     "name": "stdout",
     "output_type": "stream",
     "text": [
      "<class 'pandas.core.frame.DataFrame'>\n",
      "Int64Index: 44700 entries, 0 to 90186\n",
      "Data columns (total 5 columns):\n",
      " #   Column          Non-Null Count  Dtype \n",
      "---  ------          --------------  ----- \n",
      " 0   userid          44700 non-null  int64 \n",
      " 1   version         44700 non-null  object\n",
      " 2   sum_gamerounds  44700 non-null  int64 \n",
      " 3   retention_1     44700 non-null  int64 \n",
      " 4   retention_7     44700 non-null  int64 \n",
      "dtypes: int64(4), object(1)\n",
      "memory usage: 2.0+ MB\n"
     ]
    }
   ],
   "source": [
    "control_1.info()"
   ]
  },
  {
   "cell_type": "code",
   "execution_count": 10,
   "id": "ddb15c70",
   "metadata": {},
   "outputs": [
    {
     "data": {
      "text/html": [
       "<div>\n",
       "<style scoped>\n",
       "    .dataframe tbody tr th:only-of-type {\n",
       "        vertical-align: middle;\n",
       "    }\n",
       "\n",
       "    .dataframe tbody tr th {\n",
       "        vertical-align: top;\n",
       "    }\n",
       "\n",
       "    .dataframe thead th {\n",
       "        text-align: right;\n",
       "    }\n",
       "</style>\n",
       "<table border=\"1\" class=\"dataframe\">\n",
       "  <thead>\n",
       "    <tr style=\"text-align: right;\">\n",
       "      <th></th>\n",
       "      <th>sum_gamerounds</th>\n",
       "    </tr>\n",
       "  </thead>\n",
       "  <tbody>\n",
       "    <tr>\n",
       "      <th>count</th>\n",
       "      <td>45489.000000</td>\n",
       "    </tr>\n",
       "    <tr>\n",
       "      <th>mean</th>\n",
       "      <td>51.298776</td>\n",
       "    </tr>\n",
       "    <tr>\n",
       "      <th>std</th>\n",
       "      <td>103.294416</td>\n",
       "    </tr>\n",
       "    <tr>\n",
       "      <th>min</th>\n",
       "      <td>0.000000</td>\n",
       "    </tr>\n",
       "    <tr>\n",
       "      <th>25%</th>\n",
       "      <td>5.000000</td>\n",
       "    </tr>\n",
       "    <tr>\n",
       "      <th>50%</th>\n",
       "      <td>16.000000</td>\n",
       "    </tr>\n",
       "    <tr>\n",
       "      <th>75%</th>\n",
       "      <td>52.000000</td>\n",
       "    </tr>\n",
       "    <tr>\n",
       "      <th>max</th>\n",
       "      <td>2640.000000</td>\n",
       "    </tr>\n",
       "  </tbody>\n",
       "</table>\n",
       "</div>"
      ],
      "text/plain": [
       "       sum_gamerounds\n",
       "count    45489.000000\n",
       "mean        51.298776\n",
       "std        103.294416\n",
       "min          0.000000\n",
       "25%          5.000000\n",
       "50%         16.000000\n",
       "75%         52.000000\n",
       "max       2640.000000"
      ]
     },
     "execution_count": 10,
     "metadata": {},
     "output_type": "execute_result"
    }
   ],
   "source": [
    "test_1[['sum_gamerounds']].describe()"
   ]
  },
  {
   "cell_type": "code",
   "execution_count": 11,
   "id": "3d830e57",
   "metadata": {},
   "outputs": [
    {
     "data": {
      "text/html": [
       "<div>\n",
       "<style scoped>\n",
       "    .dataframe tbody tr th:only-of-type {\n",
       "        vertical-align: middle;\n",
       "    }\n",
       "\n",
       "    .dataframe tbody tr th {\n",
       "        vertical-align: top;\n",
       "    }\n",
       "\n",
       "    .dataframe thead th {\n",
       "        text-align: right;\n",
       "    }\n",
       "</style>\n",
       "<table border=\"1\" class=\"dataframe\">\n",
       "  <thead>\n",
       "    <tr style=\"text-align: right;\">\n",
       "      <th></th>\n",
       "      <th>sum_gamerounds</th>\n",
       "    </tr>\n",
       "  </thead>\n",
       "  <tbody>\n",
       "    <tr>\n",
       "      <th>1</th>\n",
       "      <td>2789</td>\n",
       "    </tr>\n",
       "    <tr>\n",
       "      <th>2</th>\n",
       "      <td>2408</td>\n",
       "    </tr>\n",
       "    <tr>\n",
       "      <th>3</th>\n",
       "      <td>2059</td>\n",
       "    </tr>\n",
       "    <tr>\n",
       "      <th>0</th>\n",
       "      <td>2057</td>\n",
       "    </tr>\n",
       "    <tr>\n",
       "      <th>4</th>\n",
       "      <td>1798</td>\n",
       "    </tr>\n",
       "    <tr>\n",
       "      <th>...</th>\n",
       "      <td>...</td>\n",
       "    </tr>\n",
       "    <tr>\n",
       "      <th>717</th>\n",
       "      <td>1</td>\n",
       "    </tr>\n",
       "    <tr>\n",
       "      <th>473</th>\n",
       "      <td>1</td>\n",
       "    </tr>\n",
       "    <tr>\n",
       "      <th>897</th>\n",
       "      <td>1</td>\n",
       "    </tr>\n",
       "    <tr>\n",
       "      <th>975</th>\n",
       "      <td>1</td>\n",
       "    </tr>\n",
       "    <tr>\n",
       "      <th>708</th>\n",
       "      <td>1</td>\n",
       "    </tr>\n",
       "  </tbody>\n",
       "</table>\n",
       "<p>792 rows × 1 columns</p>\n",
       "</div>"
      ],
      "text/plain": [
       "     sum_gamerounds\n",
       "1              2789\n",
       "2              2408\n",
       "3              2059\n",
       "0              2057\n",
       "4              1798\n",
       "..              ...\n",
       "717               1\n",
       "473               1\n",
       "897               1\n",
       "975               1\n",
       "708               1\n",
       "\n",
       "[792 rows x 1 columns]"
      ]
     },
     "execution_count": 11,
     "metadata": {},
     "output_type": "execute_result"
    }
   ],
   "source": [
    "test_1['sum_gamerounds'].value_counts().to_frame()"
   ]
  },
  {
   "cell_type": "code",
   "execution_count": 12,
   "id": "b89ba37a",
   "metadata": {},
   "outputs": [
    {
     "data": {
      "text/plain": [
       "45489"
      ]
     },
     "execution_count": 12,
     "metadata": {},
     "output_type": "execute_result"
    }
   ],
   "source": [
    "test_1['sum_gamerounds'].count()"
   ]
  },
  {
   "cell_type": "code",
   "execution_count": 13,
   "id": "ebed8896",
   "metadata": {},
   "outputs": [
    {
     "name": "stdout",
     "output_type": "stream",
     "text": [
      "<class 'pandas.core.frame.DataFrame'>\n",
      "Int64Index: 45489 entries, 2 to 90188\n",
      "Data columns (total 5 columns):\n",
      " #   Column          Non-Null Count  Dtype \n",
      "---  ------          --------------  ----- \n",
      " 0   userid          45489 non-null  int64 \n",
      " 1   version         45489 non-null  object\n",
      " 2   sum_gamerounds  45489 non-null  int64 \n",
      " 3   retention_1     45489 non-null  int64 \n",
      " 4   retention_7     45489 non-null  int64 \n",
      "dtypes: int64(4), object(1)\n",
      "memory usage: 2.1+ MB\n"
     ]
    }
   ],
   "source": [
    "test_1.info()"
   ]
  },
  {
   "cell_type": "markdown",
   "id": "1503dee0",
   "metadata": {},
   "source": [
    "Размеры выборок почти одинаковы. Есть сильное отличие в максимальных значениях. "
   ]
  },
  {
   "cell_type": "markdown",
   "id": "f0c4483a",
   "metadata": {},
   "source": [
    "#### Визуализация"
   ]
  },
  {
   "cell_type": "code",
   "execution_count": 14,
   "id": "060833c0",
   "metadata": {},
   "outputs": [
    {
     "data": {
      "text/plain": [
       "sum_gamerounds\n",
       "0      3994\n",
       "1      5538\n",
       "2      4606\n",
       "3      3958\n",
       "4      3629\n",
       "       ... \n",
       "195      43\n",
       "196      46\n",
       "197      39\n",
       "198      37\n",
       "199      46\n",
       "Name: userid, Length: 200, dtype: int64"
      ]
     },
     "execution_count": 14,
     "metadata": {},
     "output_type": "execute_result"
    }
   ],
   "source": [
    "data_plot = raw_data.groupby(\"sum_gamerounds\")[\"userid\"].count()\n",
    "data_plot.head(200)"
   ]
  },
  {
   "cell_type": "code",
   "execution_count": 15,
   "id": "307d9af4",
   "metadata": {},
   "outputs": [
    {
     "data": {
      "text/plain": [
       "<bound method Series.info of sum_gamerounds\n",
       "0        3994\n",
       "1        5538\n",
       "2        4606\n",
       "3        3958\n",
       "4        3629\n",
       "         ... \n",
       "2294        1\n",
       "2438        1\n",
       "2640        1\n",
       "2961        1\n",
       "49854       1\n",
       "Name: userid, Length: 942, dtype: int64>"
      ]
     },
     "execution_count": 15,
     "metadata": {},
     "output_type": "execute_result"
    }
   ],
   "source": [
    "data_plot.info"
   ]
  },
  {
   "cell_type": "markdown",
   "id": "c90d752d",
   "metadata": {},
   "source": [
    "Видим, что 3994 игрока отыграли 0 раундов, 5538 игроков отыграли только 1 раунд.  \n",
    "Построим визуализацию:"
   ]
  },
  {
   "cell_type": "code",
   "execution_count": 16,
   "id": "87ebaa2a",
   "metadata": {},
   "outputs": [
    {
     "data": {
      "image/png": "[encoded data removed]",
      "text/plain": [
       "<Figure size 1170x827 with 1 Axes>"
      ]
     },
     "metadata": {},
     "output_type": "display_data"
    }
   ],
   "source": [
    "plt.figure(figsize = (11.7, 8.27))\n",
    "sns.set_style(\"darkgrid\") \n",
    "sns.lineplot(data = data_plot.head(300));"
   ]
  },
  {
   "cell_type": "markdown",
   "id": "8d892cd0",
   "metadata": {},
   "source": [
    "Разобьем данные по количеству сыгранных раундов на категории. Рассмотрим категории по количеству сыгранных игр в тестовой и контрольной группах"
   ]
  },
  {
   "cell_type": "code",
   "execution_count": 17,
   "id": "069f2aef",
   "metadata": {},
   "outputs": [],
   "source": [
    "bins = pd.IntervalIndex.from_tuples([(0, 2),(2, 10), (10, 20), (20, 50),(50, 100),(100, 500),(500, 1000),(1000,50000)],closed='left')\n",
    "\n",
    "graph_control = control_1\n",
    "graph_control['range'] = pd.cut(graph_control['sum_gamerounds'],bins=bins)\n"
   ]
  },
  {
   "cell_type": "code",
   "execution_count": 18,
   "id": "9714e05e",
   "metadata": {},
   "outputs": [],
   "source": [
    "graph_control = graph_control.groupby(\"range\")[\"sum_gamerounds\"].count()\n"
   ]
  },
  {
   "cell_type": "code",
   "execution_count": 19,
   "id": "ed6c4a7a",
   "metadata": {},
   "outputs": [],
   "source": [
    "graph_control = pd.DataFrame(graph_control).reset_index()"
   ]
  },
  {
   "cell_type": "code",
   "execution_count": 20,
   "id": "3c9fa003",
   "metadata": {},
   "outputs": [],
   "source": [
    "graph_test = test_1\n",
    "graph_test['range'] = pd.cut(graph_test['sum_gamerounds'],bins=bins)"
   ]
  },
  {
   "cell_type": "code",
   "execution_count": 21,
   "id": "0ebbe68f",
   "metadata": {},
   "outputs": [],
   "source": [
    "graph_test = graph_test.groupby(\"range\")[\"sum_gamerounds\"].count()"
   ]
  },
  {
   "cell_type": "code",
   "execution_count": 22,
   "id": "9c14d2ac",
   "metadata": {},
   "outputs": [],
   "source": [
    "graph_test = pd.DataFrame(graph_test).reset_index()"
   ]
  },
  {
   "cell_type": "code",
   "execution_count": 23,
   "id": "b2f94235",
   "metadata": {},
   "outputs": [],
   "source": [
    "merged_graph = pd.merge(graph_test,graph_control, on='range')"
   ]
  },
  {
   "cell_type": "code",
   "execution_count": 24,
   "id": "488468e2",
   "metadata": {},
   "outputs": [],
   "source": [
    "merged_graph.reset_index(inplace = True)"
   ]
  },
  {
   "cell_type": "code",
   "execution_count": 25,
   "id": "c3803dad",
   "metadata": {},
   "outputs": [
    {
     "data": {
      "text/html": [
       "<div>\n",
       "<style scoped>\n",
       "    .dataframe tbody tr th:only-of-type {\n",
       "        vertical-align: middle;\n",
       "    }\n",
       "\n",
       "    .dataframe tbody tr th {\n",
       "        vertical-align: top;\n",
       "    }\n",
       "\n",
       "    .dataframe thead th {\n",
       "        text-align: right;\n",
       "    }\n",
       "</style>\n",
       "<table border=\"1\" class=\"dataframe\">\n",
       "  <thead>\n",
       "    <tr style=\"text-align: right;\">\n",
       "      <th></th>\n",
       "      <th>index</th>\n",
       "      <th>range</th>\n",
       "      <th>sum_gamerounds_x</th>\n",
       "      <th>sum_gamerounds_y</th>\n",
       "    </tr>\n",
       "  </thead>\n",
       "  <tbody>\n",
       "    <tr>\n",
       "      <th>0</th>\n",
       "      <td>0</td>\n",
       "      <td>[0, 2)</td>\n",
       "      <td>4846</td>\n",
       "      <td>4686</td>\n",
       "    </tr>\n",
       "    <tr>\n",
       "      <th>1</th>\n",
       "      <td>1</td>\n",
       "      <td>[2, 10)</td>\n",
       "      <td>12556</td>\n",
       "      <td>12149</td>\n",
       "    </tr>\n",
       "    <tr>\n",
       "      <th>2</th>\n",
       "      <td>2</td>\n",
       "      <td>[10, 20)</td>\n",
       "      <td>7403</td>\n",
       "      <td>7129</td>\n",
       "    </tr>\n",
       "    <tr>\n",
       "      <th>3</th>\n",
       "      <td>3</td>\n",
       "      <td>[20, 50)</td>\n",
       "      <td>8848</td>\n",
       "      <td>9407</td>\n",
       "    </tr>\n",
       "    <tr>\n",
       "      <th>4</th>\n",
       "      <td>4</td>\n",
       "      <td>[50, 100)</td>\n",
       "      <td>5488</td>\n",
       "      <td>5161</td>\n",
       "    </tr>\n",
       "    <tr>\n",
       "      <th>5</th>\n",
       "      <td>5</td>\n",
       "      <td>[100, 500)</td>\n",
       "      <td>5916</td>\n",
       "      <td>5740</td>\n",
       "    </tr>\n",
       "    <tr>\n",
       "      <th>6</th>\n",
       "      <td>6</td>\n",
       "      <td>[500, 1000)</td>\n",
       "      <td>367</td>\n",
       "      <td>375</td>\n",
       "    </tr>\n",
       "    <tr>\n",
       "      <th>7</th>\n",
       "      <td>7</td>\n",
       "      <td>[1000, 50000)</td>\n",
       "      <td>65</td>\n",
       "      <td>53</td>\n",
       "    </tr>\n",
       "  </tbody>\n",
       "</table>\n",
       "</div>"
      ],
      "text/plain": [
       "   index          range  sum_gamerounds_x  sum_gamerounds_y\n",
       "0      0         [0, 2)              4846              4686\n",
       "1      1        [2, 10)             12556             12149\n",
       "2      2       [10, 20)              7403              7129\n",
       "3      3       [20, 50)              8848              9407\n",
       "4      4      [50, 100)              5488              5161\n",
       "5      5     [100, 500)              5916              5740\n",
       "6      6    [500, 1000)               367               375\n",
       "7      7  [1000, 50000)                65                53"
      ]
     },
     "execution_count": 25,
     "metadata": {},
     "output_type": "execute_result"
    }
   ],
   "source": [
    "merged_graph"
   ]
  },
  {
   "cell_type": "code",
   "execution_count": 26,
   "id": "da4c4218",
   "metadata": {},
   "outputs": [
    {
     "data": {
      "image/png": "[encoded data removed]",
      "text/plain": [
       "<Figure size 1000x500 with 2 Axes>"
      ]
     },
     "metadata": {},
     "output_type": "display_data"
    }
   ],
   "source": [
    "\n",
    "fig, axes = plt.subplots(1, 2, sharex=True, figsize=(10,5))\n",
    "sns.set_style(\"darkgrid\") \n",
    "fig_test = sns.barplot(data=merged_graph,x= 'index',y = 'sum_gamerounds_x',ax = axes[0])\n",
    "fig_control = sns.barplot(data=merged_graph,x='index',y = 'sum_gamerounds_y', ax = axes[1])\n",
    "fig_test.set_xticklabels(['0-2','2-10', '10-20', '20-50','50-100','100-500','500-1000','1000-50000'],rotation = 90)\n",
    "fig_control.set_xticklabels(['0-2','2-10', '10-20', '20-50','50-100','100-500','500-1000','1000-50000'],rotation = 90)\n",
    "axes[0].set_title(\"Тестовая группа\")\n",
    "axes[1].set_title(\"Контрольная группа\");\n"
   ]
  },
  {
   "cell_type": "markdown",
   "id": "41a0fae8",
   "metadata": {},
   "source": [
    "Из диаграмм видно, что отличий в группах практически нет. Для более точной оценки совместим два графика на одном."
   ]
  },
  {
   "cell_type": "code",
   "execution_count": 27,
   "id": "b8971fa3",
   "metadata": {},
   "outputs": [
    {
     "data": {
      "image/png": "[encoded data removed]",
      "text/plain": [
       "<Figure size 1170x827 with 1 Axes>"
      ]
     },
     "metadata": {},
     "output_type": "display_data"
    }
   ],
   "source": [
    "plt.figure(figsize = (11.7, 8.27))\n",
    "sns.set_style(\"darkgrid\") \n",
    "ax1 = sns.barplot(data=merged_graph,x= 'index',y = 'sum_gamerounds_x',color = 'lime' )\n",
    "ax2 = sns.barplot(data=merged_graph,x= 'index',y = 'sum_gamerounds_y',  color = 'green')\n",
    "ax1.set(ylabel='Количество раундов', xlabel='Ранжированные категории по игрокам')\n",
    "ax1.set_xticklabels(['0-2','2-10', '10-20', '20-50','50-100','100-500','500-1000','1000-50000']);\n"
   ]
  },
  {
   "cell_type": "markdown",
   "id": "0243ce25",
   "metadata": {},
   "source": [
    "#### Проверка нормальности распределения"
   ]
  },
  {
   "cell_type": "code",
   "execution_count": 28,
   "id": "ea3db440",
   "metadata": {},
   "outputs": [
    {
     "data": {
      "text/plain": [
       "ShapiroResult(statistic=0.08805108070373535, pvalue=0.0)"
      ]
     },
     "execution_count": 28,
     "metadata": {},
     "output_type": "execute_result"
    }
   ],
   "source": [
    "stats.shapiro(control_1['sum_gamerounds'])"
   ]
  },
  {
   "cell_type": "code",
   "execution_count": 29,
   "id": "31eb265f",
   "metadata": {},
   "outputs": [
    {
     "data": {
      "text/plain": [
       "KstestResult(statistic=0.8724176532867202, pvalue=0.0, statistic_location=2, statistic_sign=-1)"
      ]
     },
     "execution_count": 29,
     "metadata": {},
     "output_type": "execute_result"
    }
   ],
   "source": [
    "stats.kstest(control_1['sum_gamerounds'],'norm')"
   ]
  },
  {
   "cell_type": "code",
   "execution_count": 30,
   "id": "c5126e35",
   "metadata": {},
   "outputs": [
    {
     "data": {
      "image/png": "[encoded data removed]",
      "text/plain": [
       "<Figure size 640x480 with 1 Axes>"
      ]
     },
     "metadata": {},
     "output_type": "display_data"
    }
   ],
   "source": [
    "stats.probplot(control_1['sum_gamerounds'], dist=\"norm\", plot=plt)\n",
    "plt.show()"
   ]
  },
  {
   "cell_type": "code",
   "execution_count": 31,
   "id": "ecb3acb2",
   "metadata": {},
   "outputs": [
    {
     "data": {
      "text/plain": [
       "ShapiroResult(statistic=0.48256635665893555, pvalue=0.0)"
      ]
     },
     "execution_count": 31,
     "metadata": {},
     "output_type": "execute_result"
    }
   ],
   "source": [
    "stats.shapiro(test_1['sum_gamerounds'])"
   ]
  },
  {
   "cell_type": "code",
   "execution_count": 32,
   "id": "743f7c79",
   "metadata": {},
   "outputs": [
    {
     "data": {
      "text/plain": [
       "KstestResult(statistic=0.8707186187388001, pvalue=0.0, statistic_location=2, statistic_sign=-1)"
      ]
     },
     "execution_count": 32,
     "metadata": {},
     "output_type": "execute_result"
    }
   ],
   "source": [
    "stats.kstest(test_1['sum_gamerounds'],'norm')"
   ]
  },
  {
   "cell_type": "code",
   "execution_count": 33,
   "id": "f4168a8f",
   "metadata": {},
   "outputs": [
    {
     "data": {
      "image/png": "[encoded data removed]",
      "text/plain": [
       "<Figure size 640x480 with 1 Axes>"
      ]
     },
     "metadata": {},
     "output_type": "display_data"
    }
   ],
   "source": [
    "stats.probplot(test_1['sum_gamerounds'], dist=\"norm\", plot=plt)\n",
    "plt.show()"
   ]
  },
  {
   "cell_type": "markdown",
   "id": "3060bf42",
   "metadata": {},
   "source": [
    "Результаты анализа показывают, что данные в тестовой и контрольной выборке не имеют нормального распределения. По критерию Шапиро-Уилка и критерию Колмогорова-Смирнов, значение P-value < alpha (5%.).\n"
   ]
  },
  {
   "cell_type": "markdown",
   "id": "ec7b7c97",
   "metadata": {},
   "source": [
    "#### Сравнение выборок"
   ]
  },
  {
   "cell_type": "code",
   "execution_count": 34,
   "id": "000aed56",
   "metadata": {},
   "outputs": [
    {
     "data": {
      "text/plain": [
       "Ttest_indResult(statistic=-0.8854374331270672, pvalue=0.37592438409326223)"
      ]
     },
     "execution_count": 34,
     "metadata": {},
     "output_type": "execute_result"
    }
   ],
   "source": [
    "stats.ttest_ind(test_1['sum_gamerounds'],control_1['sum_gamerounds'], equal_var = False)"
   ]
  },
  {
   "cell_type": "markdown",
   "id": "50083150",
   "metadata": {},
   "source": [
    "Значение P-value выше уровня статистической значимости, следовательно принимем H0 о том, что статистических различий между выборками нет."
   ]
  },
  {
   "cell_type": "markdown",
   "id": "c216db85",
   "metadata": {},
   "source": [
    "#### Расчет конверсий"
   ]
  },
  {
   "cell_type": "markdown",
   "id": "e62f7ea1",
   "metadata": {},
   "source": [
    "1-day retention - показывает, вернулся ли пользователь на следующий день после установки приложения.\n",
    "7-day retention - вернулся ли пользователь спустя неделю после установки.\n",
    "Для расчета метрик воспользуемся формулой:\n",
    "Вычисляется по формуле:\n",
    "\n",
    "1day_retetntion = X_1_day / Z, где X_1_day — количество пользователей, вернувшихся в игру на следующий день, Z — общее количество людей установивших игру.\n",
    "Метрика 7-day retention вычисляется таким же отношением."
   ]
  },
  {
   "cell_type": "code",
   "execution_count": 35,
   "id": "45d901ea",
   "metadata": {},
   "outputs": [
    {
     "name": "stdout",
     "output_type": "stream",
     "text": [
      "Метрика 1-day retention для контрольной группы 44.81879194630872\n",
      "Метрика 7-day retention для контрольной группы 19.020134228187917\n"
     ]
    }
   ],
   "source": [
    "day_one_retetntion_c = control_1[\"retention_1\"].mean()*100\n",
    "day_seven_retetntion_c = control_1[\"retention_7\"].mean()*100\n",
    "print(f'Метрика 1-day retention для контрольной группы {day_one_retetntion_c}\\n\\\n",
    "Метрика 7-day retention для контрольной группы {day_seven_retetntion_c}\\\n",
    "')\n",
    "      "
   ]
  },
  {
   "cell_type": "code",
   "execution_count": 36,
   "id": "87e810c3",
   "metadata": {},
   "outputs": [
    {
     "name": "stdout",
     "output_type": "stream",
     "text": [
      "Метрика 1-day retention для тестовой группы 44.22827496757458\n",
      "Метрика 7-day retention для тестовой группы 18.200004396667328\n"
     ]
    }
   ],
   "source": [
    "day_one_retetntion_t = test_1[\"retention_1\"].mean()*100\n",
    "day_seven_retetntion_t = test_1[\"retention_7\"].mean()*100\n",
    "print(f'Метрика 1-day retention для тестовой группы {day_one_retetntion_t}\\n\\\n",
    "Метрика 7-day retention для тестовой группы {day_seven_retetntion_t}\\\n",
    "')\n",
    "      "
   ]
  },
  {
   "cell_type": "code",
   "execution_count": 37,
   "id": "6ff303b8",
   "metadata": {},
   "outputs": [
    {
     "data": {
      "text/html": [
       "<div>\n",
       "<style scoped>\n",
       "    .dataframe tbody tr th:only-of-type {\n",
       "        vertical-align: middle;\n",
       "    }\n",
       "\n",
       "    .dataframe tbody tr th {\n",
       "        vertical-align: top;\n",
       "    }\n",
       "\n",
       "    .dataframe thead th {\n",
       "        text-align: right;\n",
       "    }\n",
       "</style>\n",
       "<table border=\"1\" class=\"dataframe\">\n",
       "  <thead>\n",
       "    <tr style=\"text-align: right;\">\n",
       "      <th></th>\n",
       "      <th>Version</th>\n",
       "      <th>1-day retention</th>\n",
       "      <th>7-day retention</th>\n",
       "    </tr>\n",
       "  </thead>\n",
       "  <tbody>\n",
       "    <tr>\n",
       "      <th>0</th>\n",
       "      <td>Control</td>\n",
       "      <td>44.818792</td>\n",
       "      <td>19.020134</td>\n",
       "    </tr>\n",
       "    <tr>\n",
       "      <th>1</th>\n",
       "      <td>Test</td>\n",
       "      <td>44.228275</td>\n",
       "      <td>18.200004</td>\n",
       "    </tr>\n",
       "  </tbody>\n",
       "</table>\n",
       "</div>"
      ],
      "text/plain": [
       "   Version  1-day retention  7-day retention\n",
       "0  Control        44.818792        19.020134\n",
       "1     Test        44.228275        18.200004"
      ]
     },
     "execution_count": 37,
     "metadata": {},
     "output_type": "execute_result"
    }
   ],
   "source": [
    "metric_data = {'Version':['Control','Test'],'1-day retention':[day_one_retetntion_c,day_one_retetntion_t],\\\n",
    "               '7-day retention':[day_seven_retetntion_c,day_seven_retetntion_t]\\\n",
    "              }\n",
    "metric_data  = pd.DataFrame(metric_data)\n",
    "metric_data\n"
   ]
  },
  {
   "cell_type": "markdown",
   "id": "ca96efa9",
   "metadata": {},
   "source": [
    "Из полученных результатов видно, что метрики контрольной и тестовой групп практически совпадают. При этом значение метрик в тестовой группе ниже. Так разница между контрольной и тестовой группой в метрике 1-day retention составляет 0.6%, а разница метрик 7-day retention составляет 0.8%. "
   ]
  },
  {
   "cell_type": "markdown",
   "id": "65161e45",
   "metadata": {},
   "source": [
    "#### Сравнение метрик через bootstrap"
   ]
  },
  {
   "cell_type": "code",
   "execution_count": 38,
   "id": "0049f81a",
   "metadata": {},
   "outputs": [],
   "source": [
    "def proportion_result(control: pd.DataFrame,\n",
    "                      treatment: pd.DataFrame,\n",
    "                      column: str,\n",
    "                      n_iters: int = 10_000) -> pd.DataFrame:\n",
    "    # Вероятность событий\n",
    "    size = control.loc[:, column].shape[0]\n",
    "    prop_control = control.loc[:, column].sum() / size\n",
    "    prop_treatment = treatment.loc[:, column].sum() / size\n",
    "    \n",
    "    # Бутсрап\n",
    "    booted_diff = []\n",
    "    for _ in tqdm(range(n_iters)):\n",
    "        control_sample = stats.bernoulli.rvs(p=prop_control, size=size)\n",
    "        treatment_sample = stats.bernoulli.rvs(p=prop_treatment, size=size)\n",
    "        booted_diff.append(np.mean(control_sample - treatment_sample))\n",
    "    \n",
    "    # Считаем статистику после бустрапа\n",
    "    md_ci, std_ci = np.mean(booted_diff), np.std(booted_diff, ddof=1)\n",
    "    left_ci, right_ci = np.percentile(booted_diff, [2.5, 97.5])\n",
    "    p_value_ci = 2 * (1 - stats.norm.cdf(np.abs(md_ci / std_ci)))\n",
    "    \n",
    "    # Считаем мощность эксперимента\n",
    "    effect_size = proportion.proportion_effectsize(prop_control, prop_treatment)\n",
    "    \n",
    "    power = zt_ind_solve_power(effect_size=effect_size,\n",
    "                               nobs1=size,\n",
    "                               alpha=.05,\n",
    "                               power=None,\n",
    "                               ratio=1)\n",
    "    # Формируем отчёт \n",
    "    result = pd.DataFrame({'effect_size': effect_size,\n",
    "                           'alpha': p_value_ci, \n",
    "                           'beta': (1-power),\n",
    "                           'CI': f'[{np.round(left_ci, 3)}, {np.round(right_ci, 3)}]',\n",
    "                           'difference': md_ci,},\n",
    "                          index=[column]) \n",
    "    return result"
   ]
  },
  {
   "cell_type": "code",
   "execution_count": 39,
   "id": "321ad264",
   "metadata": {},
   "outputs": [
    {
     "name": "stderr",
     "output_type": "stream",
     "text": [
      "100%|██████████| 10000/10000 [00:47<00:00, 208.75it/s]\n"
     ]
    },
    {
     "data": {
      "text/html": [
       "<div>\n",
       "<style scoped>\n",
       "    .dataframe tbody tr th:only-of-type {\n",
       "        vertical-align: middle;\n",
       "    }\n",
       "\n",
       "    .dataframe tbody tr th {\n",
       "        vertical-align: top;\n",
       "    }\n",
       "\n",
       "    .dataframe thead th {\n",
       "        text-align: right;\n",
       "    }\n",
       "</style>\n",
       "<table border=\"1\" class=\"dataframe\">\n",
       "  <thead>\n",
       "    <tr style=\"text-align: right;\">\n",
       "      <th></th>\n",
       "      <th>effect_size</th>\n",
       "      <th>alpha</th>\n",
       "      <th>beta</th>\n",
       "      <th>CI</th>\n",
       "      <th>difference</th>\n",
       "    </tr>\n",
       "  </thead>\n",
       "  <tbody>\n",
       "    <tr>\n",
       "      <th>retention_1</th>\n",
       "      <td>-0.003823</td>\n",
       "      <td>0.563889</td>\n",
       "      <td>0.911819</td>\n",
       "      <td>[-0.009, 0.005]</td>\n",
       "      <td>-0.001928</td>\n",
       "    </tr>\n",
       "  </tbody>\n",
       "</table>\n",
       "</div>"
      ],
      "text/plain": [
       "             effect_size     alpha      beta               CI  difference\n",
       "retention_1    -0.003823  0.563889  0.911819  [-0.009, 0.005]   -0.001928"
      ]
     },
     "execution_count": 39,
     "metadata": {},
     "output_type": "execute_result"
    }
   ],
   "source": [
    "proportion_result(control_1,test_1, column='retention_1')"
   ]
  },
  {
   "cell_type": "code",
   "execution_count": 40,
   "id": "19c2540f",
   "metadata": {},
   "outputs": [
    {
     "name": "stderr",
     "output_type": "stream",
     "text": [
      "100%|██████████| 10000/10000 [00:47<00:00, 212.26it/s]\n"
     ]
    },
    {
     "data": {
      "text/html": [
       "<div>\n",
       "<style scoped>\n",
       "    .dataframe tbody tr th:only-of-type {\n",
       "        vertical-align: middle;\n",
       "    }\n",
       "\n",
       "    .dataframe tbody tr th {\n",
       "        vertical-align: top;\n",
       "    }\n",
       "\n",
       "    .dataframe thead th {\n",
       "        text-align: right;\n",
       "    }\n",
       "</style>\n",
       "<table border=\"1\" class=\"dataframe\">\n",
       "  <thead>\n",
       "    <tr style=\"text-align: right;\">\n",
       "      <th></th>\n",
       "      <th>effect_size</th>\n",
       "      <th>alpha</th>\n",
       "      <th>beta</th>\n",
       "      <th>CI</th>\n",
       "      <th>difference</th>\n",
       "    </tr>\n",
       "  </thead>\n",
       "  <tbody>\n",
       "    <tr>\n",
       "      <th>retention_7</th>\n",
       "      <td>0.012776</td>\n",
       "      <td>0.057785</td>\n",
       "      <td>0.519844</td>\n",
       "      <td>[-0.0, 0.01]</td>\n",
       "      <td>0.004971</td>\n",
       "    </tr>\n",
       "  </tbody>\n",
       "</table>\n",
       "</div>"
      ],
      "text/plain": [
       "             effect_size     alpha      beta            CI  difference\n",
       "retention_7     0.012776  0.057785  0.519844  [-0.0, 0.01]    0.004971"
      ]
     },
     "execution_count": 40,
     "metadata": {},
     "output_type": "execute_result"
    }
   ],
   "source": [
    "proportion_result(control_1,test_1, column='retention_7')"
   ]
  },
  {
   "cell_type": "markdown",
   "id": "7b0ca5c1",
   "metadata": {},
   "source": [
    "### Выводы"
   ]
  },
  {
   "attachments": {},
   "cell_type": "markdown",
   "id": "30b85e4c",
   "metadata": {},
   "source": [
    "* После анализа исходного набора данных можем сделать вывод о корректной работе системы сплитования  \n",
    "Выборки идентичны по размеру, пользователи разделены по группам (нет значений оказавшихся одновременно в обоих группах), пропущенные значения в датасете также отсутсвуют.\n",
    "* Анализ распределения показал, что данные не подчинены нормальному распределению\n",
    "* Сравнение выборок показало, что статистически значимых отличий между ними нет.\n",
    "* Анализ методом bootstrap дал следующие значения:  \n",
    "Для метрики retention_1:\n",
    "alpha = 56%, beta = 91%, доверительный интервал включает в себя нулевое значение.\n",
    "Для метрики retention_7:\n",
    "alpha = 57%, beta = 52%, доверительный интервал также включает в себя нулевое значение.  \n",
    "Таким образом видим, что статистически значимых различий нет. Принимая во внимание наблюдаемое небольшое снижение конверсии в тестовой версии  рекомендовано оставить контрольную версию (gate_30)"
   ]
  }
 ],
 "metadata": {
  "kernelspec": {
   "display_name": "Python 3",
   "language": "python",
   "name": "python3"
  },
  "language_info": {
   "codemirror_mode": {
    "name": "ipython",
    "version": 3
   },
   "file_extension": ".py",
   "mimetype": "text/x-python",
   "name": "python",
   "nbconvert_exporter": "python",
   "pygments_lexer": "ipython3",
   "version": "3.11.2"
  },
  "vscode": {
   "interpreter": {
    "hash": "5238573367df39f7286bb46f9ff5f08f63a01a80960060ce41e3c79b190280fa"
   }
  }
 },
 "nbformat": 4,
 "nbformat_minor": 5
}
